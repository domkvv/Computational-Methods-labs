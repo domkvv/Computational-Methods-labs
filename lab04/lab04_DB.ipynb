{
 "cells": [
  {
   "cell_type": "code",
   "execution_count": 1,
   "id": "19dc2873",
   "metadata": {},
   "outputs": [
    {
     "name": "stderr",
     "output_type": "stream",
     "text": [
      "Warning message:\n",
      "\"pakiet 'tidyverse' został zbudowany w wersji R 4.1.3\"\n",
      "-- \u001b[1mAttaching packages\u001b[22m ------------------------------------------------------------------------------- tidyverse 1.3.1 --\n",
      "\n",
      "\u001b[32mv\u001b[39m \u001b[34mggplot2\u001b[39m 3.3.5     \u001b[32mv\u001b[39m \u001b[34mpurrr  \u001b[39m 0.3.4\n",
      "\u001b[32mv\u001b[39m \u001b[34mtibble \u001b[39m 3.1.6     \u001b[32mv\u001b[39m \u001b[34mdplyr  \u001b[39m 1.0.8\n",
      "\u001b[32mv\u001b[39m \u001b[34mtidyr  \u001b[39m 1.2.0     \u001b[32mv\u001b[39m \u001b[34mstringr\u001b[39m 1.4.0\n",
      "\u001b[32mv\u001b[39m \u001b[34mreadr  \u001b[39m 2.1.2     \u001b[32mv\u001b[39m \u001b[34mforcats\u001b[39m 0.5.1\n",
      "\n",
      "Warning message:\n",
      "\"pakiet 'ggplot2' został zbudowany w wersji R 4.1.3\"\n",
      "Warning message:\n",
      "\"pakiet 'tibble' został zbudowany w wersji R 4.1.3\"\n",
      "Warning message:\n",
      "\"pakiet 'tidyr' został zbudowany w wersji R 4.1.3\"\n",
      "Warning message:\n",
      "\"pakiet 'readr' został zbudowany w wersji R 4.1.3\"\n",
      "Warning message:\n",
      "\"pakiet 'purrr' został zbudowany w wersji R 4.1.3\"\n",
      "Warning message:\n",
      "\"pakiet 'dplyr' został zbudowany w wersji R 4.1.3\"\n",
      "Warning message:\n",
      "\"pakiet 'stringr' został zbudowany w wersji R 4.1.3\"\n",
      "Warning message:\n",
      "\"pakiet 'forcats' został zbudowany w wersji R 4.1.3\"\n",
      "-- \u001b[1mConflicts\u001b[22m ---------------------------------------------------------------------------------- tidyverse_conflicts() --\n",
      "\u001b[31mx\u001b[39m \u001b[34mdplyr\u001b[39m::\u001b[32mfilter()\u001b[39m masks \u001b[34mstats\u001b[39m::filter()\n",
      "\u001b[31mx\u001b[39m \u001b[34mdplyr\u001b[39m::\u001b[32mlag()\u001b[39m    masks \u001b[34mstats\u001b[39m::lag()\n",
      "\n"
     ]
    }
   ],
   "source": [
    "library(\"tidyverse\")"
   ]
  },
  {
   "cell_type": "markdown",
   "id": "4831dfd6",
   "metadata": {},
   "source": [
    "#### Zadanie \n",
    "Za pomocą języka R przeanalizować dowolne dane z poprzednich laboratoriów. Elementy obowiązkowe:\n",
    "\n",
    "   1. W jednej tabeli języka R należy umieścić wyniki dwóch różnych eksperymentów (t.j. czas działania dwóch różnych funkcji) dla różnych parametrów (t.j. rozmiarów wektora(macierzy)). Tabela powinna zawierać dane z 10-krotnego uruchomienia tego samego eksperymentu dla tych samych parametrów (dla każdego takiego zestawu) (1p.)\n",
    "   2. Należy przedstawić wykresy średnich czasów obliczenia wybranych funkcji w zależności od rozmiaru wektora (macierzy) (1p.)\n",
    "   3. Wykresy powinny zawierać informację o odchyleniu standardowym dla uzyskanych wyników (słupki błędów) (1p.)\n",
    "   4. Użyć aproksymacji wielomianowej dostępnej w języku R do znalezienia odpowiednich wielomianów, które najlepiej pasują do wyników każdego z algorytmów. Dodać wykresy uzyskanych wielomianow do wykresu. (1p.)\n",
    "\n"
   ]
  },
  {
   "cell_type": "code",
   "execution_count": 2,
   "id": "fff3e751",
   "metadata": {},
   "outputs": [
    {
     "data": {
      "text/plain": [
       "cols(\n",
       "  vector_size = \u001b[32mcol_double()\u001b[39m,\n",
       "  measure = \u001b[32mcol_double()\u001b[39m,\n",
       "  second_object = \u001b[31mcol_character()\u001b[39m,\n",
       "  time = \u001b[32mcol_double()\u001b[39m\n",
       ")"
      ]
     },
     "metadata": {},
     "output_type": "display_data"
    }
   ],
   "source": [
    "spec(results <- read_csv(\"mydataframe1.csv\", show_col_types = FALSE))"
   ]
  },
  {
   "cell_type": "code",
   "execution_count": 3,
   "id": "d4f297fc",
   "metadata": {},
   "outputs": [
    {
     "data": {
      "text/html": [
       "<table class=\"dataframe\">\n",
       "<caption>A grouped_df: 30 × 4</caption>\n",
       "<thead>\n",
       "\t<tr><th scope=col>vector_size</th><th scope=col>second_object</th><th scope=col>time_sd</th><th scope=col>time_mean</th></tr>\n",
       "\t<tr><th scope=col>&lt;dbl&gt;</th><th scope=col>&lt;chr&gt;</th><th scope=col>&lt;dbl&gt;</th><th scope=col>&lt;dbl&gt;</th></tr>\n",
       "</thead>\n",
       "<tbody>\n",
       "\t<tr><td>     10</td><td>matrix</td><td>3.150467e-06</td><td>0.00000189</td></tr>\n",
       "\t<tr><td>    100</td><td>matrix</td><td>4.289988e-06</td><td>0.00000482</td></tr>\n",
       "\t<tr><td>    250</td><td>matrix</td><td>2.068199e-05</td><td>0.00002724</td></tr>\n",
       "\t<tr><td>    500</td><td>matrix</td><td>7.301431e-05</td><td>0.00012739</td></tr>\n",
       "\t<tr><td>    750</td><td>matrix</td><td>2.051440e-04</td><td>0.00027576</td></tr>\n",
       "\t<tr><td>   1000</td><td>matrix</td><td>1.832891e-04</td><td>0.00040267</td></tr>\n",
       "\t<tr><td>   2500</td><td>matrix</td><td>8.238329e-04</td><td>0.00343417</td></tr>\n",
       "\t<tr><td>   4000</td><td>matrix</td><td>1.821057e-03</td><td>0.00874693</td></tr>\n",
       "\t<tr><td>   5000</td><td>matrix</td><td>2.409081e-04</td><td>0.01230250</td></tr>\n",
       "\t<tr><td>   6000</td><td>matrix</td><td>1.140356e-04</td><td>0.01785800</td></tr>\n",
       "\t<tr><td>   7500</td><td>matrix</td><td>1.368664e-03</td><td>0.02803804</td></tr>\n",
       "\t<tr><td>   8000</td><td>matrix</td><td>7.681414e-04</td><td>0.03454556</td></tr>\n",
       "\t<tr><td>  10000</td><td>matrix</td><td>1.028401e-03</td><td>0.05159115</td></tr>\n",
       "\t<tr><td>     10</td><td>vector</td><td>1.075433e-06</td><td>0.00000061</td></tr>\n",
       "\t<tr><td>    100</td><td>vector</td><td>7.498889e-07</td><td>0.00000037</td></tr>\n",
       "\t<tr><td>   1000</td><td>vector</td><td>1.449138e-07</td><td>0.00000071</td></tr>\n",
       "\t<tr><td>   5000</td><td>vector</td><td>1.035160e-06</td><td>0.00000326</td></tr>\n",
       "\t<tr><td>  10000</td><td>vector</td><td>1.170425e-05</td><td>0.00001295</td></tr>\n",
       "\t<tr><td>  25000</td><td>vector</td><td>6.582097e-06</td><td>0.00001742</td></tr>\n",
       "\t<tr><td>  40000</td><td>vector</td><td>6.289851e-06</td><td>0.00002470</td></tr>\n",
       "\t<tr><td>  50000</td><td>vector</td><td>8.208018e-06</td><td>0.00003104</td></tr>\n",
       "\t<tr><td>  60000</td><td>vector</td><td>9.968400e-06</td><td>0.00003723</td></tr>\n",
       "\t<tr><td>  75000</td><td>vector</td><td>1.229860e-05</td><td>0.00004650</td></tr>\n",
       "\t<tr><td> 100000</td><td>vector</td><td>1.606912e-05</td><td>0.00006201</td></tr>\n",
       "\t<tr><td> 250000</td><td>vector</td><td>5.561788e-05</td><td>0.00017847</td></tr>\n",
       "\t<tr><td> 400000</td><td>vector</td><td>6.357991e-05</td><td>0.00027251</td></tr>\n",
       "\t<tr><td> 500000</td><td>vector</td><td>7.815505e-05</td><td>0.00031610</td></tr>\n",
       "\t<tr><td> 600000</td><td>vector</td><td>2.051255e-04</td><td>0.00050573</td></tr>\n",
       "\t<tr><td> 750000</td><td>vector</td><td>1.174146e-04</td><td>0.00048042</td></tr>\n",
       "\t<tr><td>1000000</td><td>vector</td><td>1.484317e-04</td><td>0.00073647</td></tr>\n",
       "</tbody>\n",
       "</table>\n"
      ],
      "text/latex": [
       "A grouped\\_df: 30 × 4\n",
       "\\begin{tabular}{llll}\n",
       " vector\\_size & second\\_object & time\\_sd & time\\_mean\\\\\n",
       " <dbl> & <chr> & <dbl> & <dbl>\\\\\n",
       "\\hline\n",
       "\t      10 & matrix & 3.150467e-06 & 0.00000189\\\\\n",
       "\t     100 & matrix & 4.289988e-06 & 0.00000482\\\\\n",
       "\t     250 & matrix & 2.068199e-05 & 0.00002724\\\\\n",
       "\t     500 & matrix & 7.301431e-05 & 0.00012739\\\\\n",
       "\t     750 & matrix & 2.051440e-04 & 0.00027576\\\\\n",
       "\t    1000 & matrix & 1.832891e-04 & 0.00040267\\\\\n",
       "\t    2500 & matrix & 8.238329e-04 & 0.00343417\\\\\n",
       "\t    4000 & matrix & 1.821057e-03 & 0.00874693\\\\\n",
       "\t    5000 & matrix & 2.409081e-04 & 0.01230250\\\\\n",
       "\t    6000 & matrix & 1.140356e-04 & 0.01785800\\\\\n",
       "\t    7500 & matrix & 1.368664e-03 & 0.02803804\\\\\n",
       "\t    8000 & matrix & 7.681414e-04 & 0.03454556\\\\\n",
       "\t   10000 & matrix & 1.028401e-03 & 0.05159115\\\\\n",
       "\t      10 & vector & 1.075433e-06 & 0.00000061\\\\\n",
       "\t     100 & vector & 7.498889e-07 & 0.00000037\\\\\n",
       "\t    1000 & vector & 1.449138e-07 & 0.00000071\\\\\n",
       "\t    5000 & vector & 1.035160e-06 & 0.00000326\\\\\n",
       "\t   10000 & vector & 1.170425e-05 & 0.00001295\\\\\n",
       "\t   25000 & vector & 6.582097e-06 & 0.00001742\\\\\n",
       "\t   40000 & vector & 6.289851e-06 & 0.00002470\\\\\n",
       "\t   50000 & vector & 8.208018e-06 & 0.00003104\\\\\n",
       "\t   60000 & vector & 9.968400e-06 & 0.00003723\\\\\n",
       "\t   75000 & vector & 1.229860e-05 & 0.00004650\\\\\n",
       "\t  100000 & vector & 1.606912e-05 & 0.00006201\\\\\n",
       "\t  250000 & vector & 5.561788e-05 & 0.00017847\\\\\n",
       "\t  400000 & vector & 6.357991e-05 & 0.00027251\\\\\n",
       "\t  500000 & vector & 7.815505e-05 & 0.00031610\\\\\n",
       "\t  600000 & vector & 2.051255e-04 & 0.00050573\\\\\n",
       "\t  750000 & vector & 1.174146e-04 & 0.00048042\\\\\n",
       "\t 1000000 & vector & 1.484317e-04 & 0.00073647\\\\\n",
       "\\end{tabular}\n"
      ],
      "text/markdown": [
       "\n",
       "A grouped_df: 30 × 4\n",
       "\n",
       "| vector_size &lt;dbl&gt; | second_object &lt;chr&gt; | time_sd &lt;dbl&gt; | time_mean &lt;dbl&gt; |\n",
       "|---|---|---|---|\n",
       "|      10 | matrix | 3.150467e-06 | 0.00000189 |\n",
       "|     100 | matrix | 4.289988e-06 | 0.00000482 |\n",
       "|     250 | matrix | 2.068199e-05 | 0.00002724 |\n",
       "|     500 | matrix | 7.301431e-05 | 0.00012739 |\n",
       "|     750 | matrix | 2.051440e-04 | 0.00027576 |\n",
       "|    1000 | matrix | 1.832891e-04 | 0.00040267 |\n",
       "|    2500 | matrix | 8.238329e-04 | 0.00343417 |\n",
       "|    4000 | matrix | 1.821057e-03 | 0.00874693 |\n",
       "|    5000 | matrix | 2.409081e-04 | 0.01230250 |\n",
       "|    6000 | matrix | 1.140356e-04 | 0.01785800 |\n",
       "|    7500 | matrix | 1.368664e-03 | 0.02803804 |\n",
       "|    8000 | matrix | 7.681414e-04 | 0.03454556 |\n",
       "|   10000 | matrix | 1.028401e-03 | 0.05159115 |\n",
       "|      10 | vector | 1.075433e-06 | 0.00000061 |\n",
       "|     100 | vector | 7.498889e-07 | 0.00000037 |\n",
       "|    1000 | vector | 1.449138e-07 | 0.00000071 |\n",
       "|    5000 | vector | 1.035160e-06 | 0.00000326 |\n",
       "|   10000 | vector | 1.170425e-05 | 0.00001295 |\n",
       "|   25000 | vector | 6.582097e-06 | 0.00001742 |\n",
       "|   40000 | vector | 6.289851e-06 | 0.00002470 |\n",
       "|   50000 | vector | 8.208018e-06 | 0.00003104 |\n",
       "|   60000 | vector | 9.968400e-06 | 0.00003723 |\n",
       "|   75000 | vector | 1.229860e-05 | 0.00004650 |\n",
       "|  100000 | vector | 1.606912e-05 | 0.00006201 |\n",
       "|  250000 | vector | 5.561788e-05 | 0.00017847 |\n",
       "|  400000 | vector | 6.357991e-05 | 0.00027251 |\n",
       "|  500000 | vector | 7.815505e-05 | 0.00031610 |\n",
       "|  600000 | vector | 2.051255e-04 | 0.00050573 |\n",
       "|  750000 | vector | 1.174146e-04 | 0.00048042 |\n",
       "| 1000000 | vector | 1.484317e-04 | 0.00073647 |\n",
       "\n"
      ],
      "text/plain": [
       "   vector_size second_object time_sd      time_mean \n",
       "1       10     matrix        3.150467e-06 0.00000189\n",
       "2      100     matrix        4.289988e-06 0.00000482\n",
       "3      250     matrix        2.068199e-05 0.00002724\n",
       "4      500     matrix        7.301431e-05 0.00012739\n",
       "5      750     matrix        2.051440e-04 0.00027576\n",
       "6     1000     matrix        1.832891e-04 0.00040267\n",
       "7     2500     matrix        8.238329e-04 0.00343417\n",
       "8     4000     matrix        1.821057e-03 0.00874693\n",
       "9     5000     matrix        2.409081e-04 0.01230250\n",
       "10    6000     matrix        1.140356e-04 0.01785800\n",
       "11    7500     matrix        1.368664e-03 0.02803804\n",
       "12    8000     matrix        7.681414e-04 0.03454556\n",
       "13   10000     matrix        1.028401e-03 0.05159115\n",
       "14      10     vector        1.075433e-06 0.00000061\n",
       "15     100     vector        7.498889e-07 0.00000037\n",
       "16    1000     vector        1.449138e-07 0.00000071\n",
       "17    5000     vector        1.035160e-06 0.00000326\n",
       "18   10000     vector        1.170425e-05 0.00001295\n",
       "19   25000     vector        6.582097e-06 0.00001742\n",
       "20   40000     vector        6.289851e-06 0.00002470\n",
       "21   50000     vector        8.208018e-06 0.00003104\n",
       "22   60000     vector        9.968400e-06 0.00003723\n",
       "23   75000     vector        1.229860e-05 0.00004650\n",
       "24  100000     vector        1.606912e-05 0.00006201\n",
       "25  250000     vector        5.561788e-05 0.00017847\n",
       "26  400000     vector        6.357991e-05 0.00027251\n",
       "27  500000     vector        7.815505e-05 0.00031610\n",
       "28  600000     vector        2.051255e-04 0.00050573\n",
       "29  750000     vector        1.174146e-04 0.00048042\n",
       "30 1000000     vector        1.484317e-04 0.00073647"
      ]
     },
     "metadata": {},
     "output_type": "display_data"
    }
   ],
   "source": [
    "combined <- results %>% \n",
    "    group_by(vector_size, second_object) %>%\n",
    "    summarise(\n",
    "        time_sd = sd(time),\n",
    "        time_mean = mean(time),\n",
    "        .groups = 'keep'\n",
    "    )  %>% \n",
    "    arrange(second_object, vector_size)\n",
    "\n",
    "combined"
   ]
  },
  {
   "cell_type": "code",
   "execution_count": 4,
   "id": "cce15d99",
   "metadata": {},
   "outputs": [],
   "source": [
    "vectors <- combined %>% filter(second_object==\"vector\")"
   ]
  },
  {
   "cell_type": "code",
   "execution_count": 5,
   "id": "ed58dcc8",
   "metadata": {},
   "outputs": [],
   "source": [
    "matrices <- combined %>% filter(second_object==\"matrix\")"
   ]
  },
  {
   "cell_type": "code",
   "execution_count": 6,
   "id": "caf1920e",
   "metadata": {},
   "outputs": [],
   "source": [
    "vec <- ggplot(vectors, aes(x=vector_size, y=time_mean)) + geom_point(size = 3, colour = \"#BD3027\") +\n",
    "geom_errorbar(aes(ymin=time_mean-time_sd, ymax=time_mean+time_sd), width=.2, colour = \"#BD3027\") + \n",
    "labs(y=\"time(s)\", x=\"vector size\") + ggtitle(\"average scalar multiplication runtime\")\n",
    "\n",
    "mat <- ggplot(matrices, aes(x=vector_size, y=time_mean)) + geom_point(size = 3, colour=\"#7FC0C6\") +\n",
    "geom_errorbar(aes(ymin=time_mean-time_sd, ymax=time_mean+time_sd), width=.2,  colour=\"#7FC0C6\") + \n",
    "labs(y=\"time(s)\", x=\"matrix size\") + ggtitle(\"average matrix multiplication runtime\")"
   ]
  },
  {
   "cell_type": "code",
   "execution_count": 7,
   "id": "466bdbd1",
   "metadata": {},
   "outputs": [
    {
     "data": {
      "image/png": "[encoded data removed]",
      "text/plain": [
       "plot without title"
      ]
     },
     "metadata": {
      "image/png": {
       "height": 420,
       "width": 420
      }
     },
     "output_type": "display_data"
    },
    {
     "data": {
      "image/png": "[encoded data removed]",
      "text/plain": [
       "plot without title"
      ]
     },
     "metadata": {
      "image/png": {
       "height": 420,
       "width": 420
      }
     },
     "output_type": "display_data"
    }
   ],
   "source": [
    "vec\n",
    "mat"
   ]
  },
  {
   "cell_type": "code",
   "execution_count": 8,
   "id": "486f91ae",
   "metadata": {},
   "outputs": [
    {
     "data": {
      "text/plain": [
       "\n",
       "Call:\n",
       "lm(formula = time_mean ~ poly(vector_size, 1, raw = TRUE), data = vectors)\n",
       "\n",
       "Coefficients:\n",
       "                     (Intercept)  poly(vector_size, 1, raw = TRUE)  \n",
       "                      -3.091e-06                         7.188e-10  \n"
      ]
     },
     "metadata": {},
     "output_type": "display_data"
    }
   ],
   "source": [
    "fit_vec <- lm(time_mean ~ poly(vector_size, 1, raw=TRUE), data=vectors)\n",
    "fit_vec"
   ]
  },
  {
   "cell_type": "code",
   "execution_count": 9,
   "id": "6d45353a",
   "metadata": {},
   "outputs": [],
   "source": [
    "new_vec = data.frame(vector_size = seq(5, 1000000, length.out=250))\n",
    "new_vec$time_mean = predict(fit_vec, new_vec)"
   ]
  },
  {
   "cell_type": "code",
   "execution_count": 10,
   "id": "aa0d2330",
   "metadata": {},
   "outputs": [
    {
     "data": {
      "text/plain": [
       "\n",
       "Call:\n",
       "lm(formula = time_mean ~ poly(vector_size, 2, raw = TRUE), data = matrices)\n",
       "\n",
       "Coefficients:\n",
       "                      (Intercept)  poly(vector_size, 2, raw = TRUE)1  \n",
       "                        4.758e-05                         -8.744e-08  \n",
       "poly(vector_size, 2, raw = TRUE)2  \n",
       "                        5.263e-10  \n"
      ]
     },
     "metadata": {},
     "output_type": "display_data"
    }
   ],
   "source": [
    "fit_mat <- lm(time_mean ~ poly(vector_size, 2, raw=TRUE), data=matrices)\n",
    "fit_mat"
   ]
  },
  {
   "cell_type": "code",
   "execution_count": 11,
   "id": "06b0d135",
   "metadata": {},
   "outputs": [],
   "source": [
    "new_mat = data.frame(vector_size = seq(5, 10000, length.out=250))\n",
    "new_mat$time_mean = predict(fit_mat, new_mat)"
   ]
  },
  {
   "cell_type": "code",
   "execution_count": 12,
   "id": "ec8df17d",
   "metadata": {},
   "outputs": [
    {
     "data": {
      "image/png": "[encoded data removed]",
      "text/plain": [
       "plot without title"
      ]
     },
     "metadata": {
      "image/png": {
       "height": 420,
       "width": 420
      }
     },
     "output_type": "display_data"
    },
    {
     "data": {
      "image/png": "[encoded data removed]",
      "text/plain": [
       "plot without title"
      ]
     },
     "metadata": {
      "image/png": {
       "height": 420,
       "width": 420
      }
     },
     "output_type": "display_data"
    }
   ],
   "source": [
    "vec + geom_line(data=new_vec, aes(vector_size, time_mean, group = 1), size = 1.1, colour=\"#851b14\")\n",
    "mat + geom_line(data=new_mat, aes(vector_size, time_mean, group = 1), size = 1.1, colour=\"#60979c\")"
   ]
  },
  {
   "cell_type": "code",
   "execution_count": null,
   "id": "d4997c9c",
   "metadata": {},
   "outputs": [],
   "source": []
  }
 ],
 "metadata": {
  "kernelspec": {
   "display_name": "R",
   "language": "R",
   "name": "ir"
  },
  "language_info": {
   "codemirror_mode": "r",
   "file_extension": ".r",
   "mimetype": "text/x-r-source",
   "name": "R",
   "pygments_lexer": "r",
   "version": "4.1.1"
  }
 },
 "nbformat": 4,
 "nbformat_minor": 5
}
